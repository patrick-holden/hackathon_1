{
 "cells": [
  {
   "cell_type": "code",
   "execution_count": null,
   "metadata": {},
   "outputs": [],
   "source": [
    "import pandas as pd\n",
    "from dateutil import parser\n",
    "\n",
    "# Import raw data from csv to DataFrame\n",
    "df = pd.read_csv('data/source/collated_bike_data.csv')\n",
    "\n",
    "# Clean NA vals to appropriate data type\n",
    "df['name'] = df['name'].fillna('Unknown')\n",
    "df['email'] = df['email'].fillna('Unknown')\n",
    "df['birthyear'] = df['birthyear'].fillna(0)\n",
    "\n",
    "# Remove unnecessary duplicate columns, rename mis-named or mis-cased columns\n",
    "df = df.drop(['start_time_formatted', 'end_time_formatted'], axis=1)\n",
    "df.rename(columns={'to_station_id.1': 'to_station_name', 'birthyear': 'birth_year', 'usertype': 'user_type', 'tripduration': 'trip_duration'}, inplace=True)\n",
    "\n",
    "# Take length of original data set, and print first 50 records\n",
    "original_len = len(df)\n",
    "df.head(50)"
   ]
  },
  {
   "cell_type": "code",
   "execution_count": null,
   "metadata": {},
   "outputs": [],
   "source": [
    "# Fill empty from/to station cells with null val of appropriate data type, set ids to int\n",
    "\n",
    "df[['from_station_id', 'from_station_name', 'to_station_id', 'to_station_name']] = (\n",
    "    df[['from_station_id', 'from_station_name', 'to_station_id', 'to_station_name']]\n",
    "    .fillna({'from_station_id': 0, 'from_station_name': 'Unknown', 'to_station_id': 0, 'to_station_name': 'Unknown'})\n",
    ")\n",
    "df[['from_station_id', 'to_station_id']] = df[['from_station_id', 'to_station_id']].astype(int)\n",
    "\n",
    "#Check data\n",
    "df.head(50)"
   ]
  },
  {
   "cell_type": "code",
   "execution_count": null,
   "metadata": {},
   "outputs": [],
   "source": [
    "# Convert date-like strings to datetime values\n",
    "\n",
    "df['start_time'] = pd.to_datetime(df['start_time'], format='mixed')\n",
    "df['end_time'] = pd.to_datetime(df['end_time'], format='mixed')\n",
    "\n",
    "# Check data\n",
    "df.head(15)"
   ]
  },
  {
   "cell_type": "code",
   "execution_count": null,
   "metadata": {},
   "outputs": [],
   "source": [
    "# Calculate tripduration in minutes from end_time/start_time, return as integer\n",
    "df['trip_duration'] = (df['end_time'] - df['start_time']) / pd.Timedelta(minutes=1)\n",
    "df['trip_duration'] = df['trip_duration'].astype(int)\n",
    "df.head(15)"
   ]
  },
  {
   "cell_type": "code",
   "execution_count": null,
   "metadata": {},
   "outputs": [],
   "source": [
    "# Where birthyear is a string val, parse to date, and take the year, else return the original val\n",
    "df['birth_year'] = (\n",
    "    df['birth_year']\n",
    "    .apply(lambda x: int(parser.parse(x, fuzzy=True).year) if isinstance(x, str) else x)\n",
    ")\n",
    "df.head(25)"
   ]
  },
  {
   "cell_type": "code",
   "execution_count": null,
   "metadata": {},
   "outputs": [],
   "source": [
    "# Helper func to set every member/casual as a Subscriber/Customer - will also capitalise Subscriber/Customers with wrong casing\n",
    "\n",
    "def clean_user_type(user):\n",
    "    return (\n",
    "        user.lower()\n",
    "        .replace('member', 'Subscriber')\n",
    "        .replace('casual', 'Customer')\n",
    "        .capitalize()\n",
    "    )\n",
    "df['user_type'] = df['user_type'].apply(clean_user_type)\n",
    "\n",
    "df.head(50)"
   ]
  },
  {
   "cell_type": "code",
   "execution_count": null,
   "metadata": {},
   "outputs": [],
   "source": [
    "# Sanity check number of records is same, print, and check types\n",
    "\n",
    "number_removed = original_len - len(df)\n",
    "print(f\"{number_removed} lines have been removed\")\n",
    "print(df.dtypes)\n",
    "\n",
    "# Export to CSV\n",
    "df.to_csv('data/target/cleaned_bike_data.csv', index=False)"
   ]
  }
 ],
 "metadata": {
  "kernelspec": {
   "display_name": "hackathon_1",
   "language": "python",
   "name": "python3"
  },
  "language_info": {
   "codemirror_mode": {
    "name": "ipython",
    "version": 3
   },
   "file_extension": ".py",
   "mimetype": "text/x-python",
   "name": "python",
   "nbconvert_exporter": "python",
   "pygments_lexer": "ipython3",
   "version": "3.12.3"
  }
 },
 "nbformat": 4,
 "nbformat_minor": 2
}
