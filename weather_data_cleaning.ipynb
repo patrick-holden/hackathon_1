{
 "cells": [
  {
   "cell_type": "code",
   "execution_count": null,
   "metadata": {},
   "outputs": [],
   "source": [
    "import pandas as pd\n",
    "\n",
    "# Import CSV to DataFrame\n",
    "df = pd.read_csv('data/source/divvy_weather_data.csv')\n",
    "original_len = len(df)\n",
    "print(f\"\\n Number of weather records in source: {original_len}\")\n",
    "\n",
    "# Remove unused data points\n",
    "df = df.drop(['EventId', 'TimeZone', 'AirportCode', 'LocationLat', 'LocationLng', 'City', 'County', 'State', 'ZipCode'], axis=1)\n",
    "\n",
    "# Tidy naming conventions and check date string formatting (cast to datetime succeeds)\n",
    "df = df.rename(columns={'StartTime(UTC)': 'start_time', 'EndTime(UTC)': 'end_time'})\n",
    "df['start_time'] = pd.to_datetime(df['start_time'])\n",
    "df['end_time'] = pd.to_datetime(df['end_time'])\n",
    "\n",
    "# Filter for weather events that start after the first bike ride in the ride data set\n",
    "mask = df['start_time'] > '2021-12-31 19:13:32'\n",
    "df = df[mask]\n",
    "\n",
    "# Read original data set length\n",
    "df.head(10)"
   ]
  },
  {
   "cell_type": "code",
   "execution_count": null,
   "metadata": {},
   "outputs": [],
   "source": [
    "# Sanity check no records removed\n",
    "\n",
    "number_removed = original_len - len(df)\n",
    "print(f\"\\n Number of weather records in target: {len(df)}\")\n",
    "print(f\"\\n {number_removed} lines have been removed\")"
   ]
  },
  {
   "cell_type": "code",
   "execution_count": null,
   "metadata": {},
   "outputs": [],
   "source": [
    "# Check data formatting/types before writing to CSV\n",
    "print(df.dtypes)\n",
    "df.to_csv('data/target/cleaned_weather_data.csv', index=False)"
   ]
  }
 ],
 "metadata": {
  "kernelspec": {
   "display_name": "hackathon_1",
   "language": "python",
   "name": "python3"
  },
  "language_info": {
   "codemirror_mode": {
    "name": "ipython",
    "version": 3
   },
   "file_extension": ".py",
   "mimetype": "text/x-python",
   "name": "python",
   "nbconvert_exporter": "python",
   "pygments_lexer": "ipython3",
   "version": "3.12.3"
  }
 },
 "nbformat": 4,
 "nbformat_minor": 2
}
