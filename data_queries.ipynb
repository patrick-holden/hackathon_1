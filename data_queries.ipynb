{
 "cells": [
  {
   "cell_type": "code",
   "execution_count": null,
   "metadata": {},
   "outputs": [],
   "source": [
    "import numpy as np\n",
    "import pandas as pd\n",
    "\n",
    "# Avoid truncating DataFrame previews\n",
    "pd.set_option('display.max_rows', None)\n",
    "pd.set_option('display.max_columns', None)\n",
    "\n",
    "# Read cleaned data sets\n",
    "bike_data = pd.read_csv('data/target/cleaned_bike_data.csv')\n",
    "weather_data = pd.read_csv('data/target/cleaned_weather_data.csv')\n",
    "\n",
    "# Check record length for both before manipulating\n",
    "original_len = len(bike_data), len(weather_data)"
   ]
  },
  {
   "cell_type": "code",
   "execution_count": null,
   "metadata": {},
   "outputs": [],
   "source": [
    "# Cast strings (from CSV) back to datetime \n",
    "bike_data['start_time'] = pd.to_datetime(bike_data['start_time'])\n",
    "bike_data['end_time'] = pd.to_datetime(bike_data['end_time'])\n",
    "weather_data['start_time'] = pd.to_datetime(weather_data['start_time'])\n",
    "weather_data['end_time'] = pd.to_datetime(weather_data['end_time'])\n",
    "\n",
    "# Check types\n",
    "print(bike_data.dtypes, weather_data.dtypes)"
   ]
  },
  {
   "cell_type": "code",
   "execution_count": null,
   "metadata": {},
   "outputs": [],
   "source": [
    "# Create a boolean mask to filter bike rentals that started during a weather event\n",
    "start_mask = bike_data['start_time'].apply(lambda x: any(\n",
    "    (x >= weather_data['start_time']) & (x <= weather_data['end_time'])\n",
    "))\n",
    "\n",
    "# Filter the bike_rentals DataFrame using the mask\n",
    "rentals_started_during_bad_weather = bike_data[start_mask]\n",
    "rentals_started_during_good_weather = bike_data[-start_mask]\n",
    "\n",
    "# Get the number of rows\n",
    "weather_len = rentals_started_during_bad_weather.shape[0]\n",
    "non_weather_len = rentals_started_during_good_weather.shape[0]\n",
    "\n",
    "print(f\"{weather_len} rentals started during wet weather; {non_weather_len} started during dry weather\")\n",
    "\n",
    "rentals_started_during_bad_weather.head(20)"
   ]
  },
  {
   "cell_type": "code",
   "execution_count": null,
   "metadata": {},
   "outputs": [],
   "source": [
    "# Create a boolean mask to filter bike rentals that ended during a weather event\n",
    "end_mask = bike_data['end_time'].apply(lambda x: any(\n",
    "    (x >= weather_data['start_time']) & (x <= weather_data['end_time'])\n",
    "))\n",
    "\n",
    "# Filter the bike_rentals DataFrame using the mask\n",
    "rentals_ended_during_bad_weather = bike_data[end_mask]\n",
    "rentals_ended_during_good_weather = bike_data[-end_mask]\n",
    "\n",
    "# Get the number of rows\n",
    "weather_len = rentals_ended_during_bad_weather.shape[0]\n",
    "non_weather_len = rentals_ended_during_good_weather.shape[0]\n",
    "\n",
    "print(f\"{weather_len} rentals ended during wet weather; {non_weather_len} ended during dry weather\")\n",
    "\n",
    "rentals_ended_during_bad_weather.head(20)"
   ]
  },
  {
   "cell_type": "code",
   "execution_count": null,
   "metadata": {},
   "outputs": [],
   "source": [
    "# Create a boolean mask to filter bike rentals that ended during a weather event but had not started in one\n",
    "end_weather_bad_start_weather_good_mask = end_mask & ~start_mask\n",
    "\n",
    "# Filter the bike_rentals DataFrame using the combined mask\n",
    "rentals_ended_in_bad_weather_having_started_in_good = bike_data[end_weather_bad_start_weather_good_mask]\n",
    "\n",
    "# Get the number of rows\n",
    "rained_off_rentals = rentals_ended_in_bad_weather_having_started_in_good.shape[0]\n",
    "\n",
    "print(f\"{rained_off_rentals} rentals ended during wet weather, having started in dry weather\")\n",
    "\n",
    "rentals_ended_in_bad_weather_having_started_in_good.head(50)"
   ]
  },
  {
   "cell_type": "code",
   "execution_count": null,
   "metadata": {},
   "outputs": [],
   "source": [
    "# Check how many of the rentals that ended in bad weather also started in bad weather\n",
    "ended_in_weather_started_in_weather_mask = end_mask & start_mask\n",
    "\n",
    "# Filter the bike_rentals DataFrame using the combined mask\n",
    "bike_rentals_ended_during_weather_having_started = bike_data[ended_in_weather_started_in_weather_mask]\n",
    "\n",
    "# Get the number of rows\n",
    "wet_rentals = bike_rentals_ended_during_weather_having_started.shape[0]\n",
    "\n",
    "print(f\"{wet_rentals} rentals ended during wet weather, having started in wet weather\")\n",
    "\n",
    "bike_rentals_ended_during_weather_having_started.head(50)"
   ]
  },
  {
   "cell_type": "code",
   "execution_count": null,
   "metadata": {},
   "outputs": [],
   "source": [
    "# Group the data by generation\n",
    "\n",
    "# Define the generation categories\n",
    "generations = {\n",
    "    'Baby Boomer Generation': (1946, 1964),\n",
    "    'Generation X': (1965, 1979),\n",
    "    'Millennials': (1980, 1994),\n",
    "    'Generation Z': (1995, 2012)\n",
    "}\n",
    "\n",
    "# Remove non-subscribers\n",
    "subscriber_bike_data = bike_data[bike_data['user_type'] == 'Subscriber'].copy()\n",
    "\n",
    "# Create a new column 'generation' based on birth_year\n",
    "def get_generation(birth_year):\n",
    "    for gen, years in generations.items():\n",
    "        if years[0] <= birth_year <= years[1]:\n",
    "            return gen\n",
    "    return 'Unknown'\n",
    "\n",
    "subscriber_bike_data['generation'] = subscriber_bike_data['birth_year'].apply(get_generation)\n",
    "\n",
    "generation_groups = subscriber_bike_data.groupby('generation')\n"
   ]
  },
  {
   "cell_type": "code",
   "execution_count": null,
   "metadata": {},
   "outputs": [],
   "source": [
    "# Number of Subscriber rentals by generation\n",
    "group_sizes = generation_groups.size()\n",
    "print(group_sizes)"
   ]
  },
  {
   "cell_type": "code",
   "execution_count": null,
   "metadata": {},
   "outputs": [],
   "source": [
    "# Average length of a Subscriber rental by generation\n",
    "avg_trip_duration = generation_groups['trip_duration'].mean()\n",
    "print(avg_trip_duration)"
   ]
  },
  {
   "cell_type": "code",
   "execution_count": null,
   "metadata": {},
   "outputs": [],
   "source": [
    "# Percentage of Subscriber rentals, subdivided by duration in each age group\n",
    "\n",
    "# Define the duration categories\n",
    "duration_bins = [0, 25, 35, 45, np.inf]\n",
    "duration_labels = ['Up to 25 min', '25-35 min', '35-45 min', '45 min and over']\n",
    "\n",
    "# Bin the 'trip_duration' column into the defined categories\n",
    "subscriber_bike_data['duration_category'] = pd.cut(subscriber_bike_data['trip_duration'], bins=duration_bins, labels=duration_labels, include_lowest=True)\n",
    "\n",
    "# Calculate the percentage of rentals in each duration category for each generation group\n",
    "duration_percentages = (\n",
    "    subscriber_bike_data\n",
    "    .groupby(['generation', 'duration_category'])\n",
    "    .size() / subscriber_bike_data.groupby('generation').size() * 100\n",
    ")\n",
    "\n",
    "# Print the result for the first set of bin labels\n",
    "print(\"Results for the first set of bin labels:\")\n",
    "print(duration_percentages.unstack(level=1))\n"
   ]
  },
  {
   "cell_type": "code",
   "execution_count": null,
   "metadata": {},
   "outputs": [],
   "source": [
    "# # Repeat with bins adjusted\n",
    "duration_bins = [0, 5, 15, 25, np.inf]\n",
    "duration_labels = ['Up to 5 min', '5-15 min', '15-25 min', '25 min and over']\n",
    "\n",
    "# Bin the 'trip_duration' column into the defined categories\n",
    "subscriber_bike_data['duration_category'] = pd.cut(subscriber_bike_data['trip_duration'], bins=duration_bins, labels=duration_labels, include_lowest=True)\n",
    "\n",
    "# Calculate the percentage of rentals in each duration category for each generation group\n",
    "duration_percentages = (\n",
    "    subscriber_bike_data\n",
    "    .groupby(['generation', 'duration_category'])\n",
    "    .size() / subscriber_bike_data.groupby('generation').size() * 100\n",
    ")\n",
    "\n",
    "# Print the result for the first set of bin labels\n",
    "print(\"Results for the first set of bin labels:\")\n",
    "print(duration_percentages.unstack(level=1))"
   ]
  },
  {
   "cell_type": "code",
   "execution_count": null,
   "metadata": {},
   "outputs": [],
   "source": [
    "# Number of rentals by user_type\n",
    "\n",
    "user_type_groups = bike_data.groupby('user_type')\n",
    "print(user_type_groups.size())\n",
    "\n",
    "bike_data.head(50)"
   ]
  },
  {
   "cell_type": "code",
   "execution_count": null,
   "metadata": {},
   "outputs": [],
   "source": [
    "# Average length of rental by user_type\n",
    "avg_trip_duration = user_type_groups['trip_duration'].mean()\n",
    "print(avg_trip_duration)\n",
    "\n"
   ]
  },
  {
   "cell_type": "code",
   "execution_count": null,
   "metadata": {},
   "outputs": [],
   "source": [
    "# An analysis of which kiosks are most frequently used\n",
    "from_station_groups = bike_data.groupby('from_station_name')\n",
    "print(from_station_groups.size())\n",
    "\n",
    "# Analysis of departure kiosk popularity, grouped by generation, then station\n",
    "station_generation_groups = subscriber_bike_data.groupby(['generation', 'from_station_name'])\n",
    "print(station_generation_groups.size())\n",
    "\n",
    "# Analysis of arrival kiosk popularity, grouped by station, then generation\n",
    "station_generation_groups = subscriber_bike_data.groupby(['to_station_name', 'generation'])\n",
    "print(station_generation_groups.size())\n",
    "\n",
    "# Recommendations on which kiosks and age categories should be chosen to trial targeted advertisements. \n",
    "# A list of recommendations on how the data quality can be improved, and any other information or insights you think is relevant. "
   ]
  },
  {
   "cell_type": "code",
   "execution_count": null,
   "metadata": {},
   "outputs": [],
   "source": [
    "# Most popular destinations\n",
    "to_station_groups = bike_data.groupby('to_station_name')\n",
    "print(to_station_groups.size())"
   ]
  },
  {
   "cell_type": "code",
   "execution_count": null,
   "metadata": {},
   "outputs": [],
   "source": [
    "original_len_bike, original_len_weather = original_len\n",
    "print(f\"{original_len_bike - len(bike_data)} bike records and {original_len_weather - len(weather_data)} weather records have been removed\")"
   ]
  }
 ],
 "metadata": {
  "kernelspec": {
   "display_name": "hackathon_1",
   "language": "python",
   "name": "python3"
  },
  "language_info": {
   "codemirror_mode": {
    "name": "ipython",
    "version": 3
   },
   "file_extension": ".py",
   "mimetype": "text/x-python",
   "name": "python",
   "nbconvert_exporter": "python",
   "pygments_lexer": "ipython3",
   "version": "3.10.7"
  }
 },
 "nbformat": 4,
 "nbformat_minor": 2
}
